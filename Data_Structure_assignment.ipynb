{
  "nbformat": 4,
  "nbformat_minor": 0,
  "metadata": {
    "colab": {
      "provenance": [],
      "authorship_tag": "ABX9TyPVRZrkeD7yOr4OC6PRp/SG",
      "include_colab_link": true
    },
    "kernelspec": {
      "name": "python3",
      "display_name": "Python 3"
    },
    "language_info": {
      "name": "python"
    }
  },
  "cells": [
    {
      "cell_type": "markdown",
      "metadata": {
        "id": "view-in-github",
        "colab_type": "text"
      },
      "source": [
        "<a href=\"https://colab.research.google.com/github/Dipomitagenz/Data-structure-assignment-2/blob/main/Data_Structure_assignment.ipynb\" target=\"_parent\"><img src=\"https://colab.research.google.com/assets/colab-badge.svg\" alt=\"Open In Colab\"/></a>"
      ]
    },
    {
      "cell_type": "markdown",
      "source": [
        "*italicized text*"
      ],
      "metadata": {
        "id": "LxLANQMUoJHM"
      }
    },
    {
      "cell_type": "markdown",
      "source": [
        "**What are data structures, and why are they important?**"
      ],
      "metadata": {
        "id": "kqSBtFFyoQjE"
      }
    },
    {
      "cell_type": "markdown",
      "source": [
        "Data structures are specialized formats for organizing, storing, and accessing collections of data. They provide efficient ways to manage information based on its characteristics and intended use.\n",
        "\n",
        "Think of them as containers that hold your data and determine how you can interact with it. Different containers are better suited for different types of items.\n",
        "\n",
        "Choosing the right data structure significantly impacts the efficiency and performance of your program.Well-chosen data structures can simplify data manipulation eg- adding, removing, modifying elements"
      ],
      "metadata": {
        "id": "y2LsAtbaoShM"
      }
    },
    {
      "cell_type": "markdown",
      "source": [
        "**Explain the difference between mutable and immutable data types with examples.**"
      ],
      "metadata": {
        "id": "1FuTQVfqoYjD"
      }
    },
    {
      "cell_type": "markdown",
      "source": [
        "In Python, objects can be either changeable (modifiable) or unchangeable (unchangeable). Mutable objects, such as lists and dictionaries, can be modified after creation, while immutable objects, such as tuples and strings, cannot. Mutability affects how objects are stored and manipulated in memory, impacting performance, memory usage, and concurrency in Python programs.\n",
        "\n"
      ],
      "metadata": {
        "id": "qh2TFzUIob37"
      }
    },
    {
      "cell_type": "markdown",
      "source": [
        "**What are the main differences between lists and tuples in Python.**"
      ],
      "metadata": {
        "id": "TjiC7f4Rofjz"
      }
    },
    {
      "cell_type": "markdown",
      "source": [
        "In lists,you can add, remove, or modify elements within a list using indexing and slicing. Lists are versatile for storing and managing .In tuples,you can access elements using indexing and slicing, but you cannot modify the content. Tuples are useful for representing fixed datasets or configurations."
      ],
      "metadata": {
        "id": "4Q8bqEF0o_As"
      }
    },
    {
      "cell_type": "markdown",
      "source": [
        "**Describe how dictionaries store data.**"
      ],
      "metadata": {
        "id": "jDHOLjQbpDqs"
      }
    },
    {
      "cell_type": "markdown",
      "source": [
        "These are the mentioned ways how dictionary stores data- Unordered collections: Elements are not stored in a specific order.Unique key-value pairs: Each key acts as a unique identifier for retrieving an associated value.Flexible data: Keys and values can be of various data types (strings, numbers, lists, and even other dictionaries)"
      ],
      "metadata": {
        "id": "NjJbdGREpLgD"
      }
    },
    {
      "cell_type": "markdown",
      "source": [
        "**Why might you use a set instead of a list in Python?**"
      ],
      "metadata": {
        "id": "uArsOpA3pReE"
      }
    },
    {
      "cell_type": "markdown",
      "source": [
        "3 Reasons to Use Sets over Lists. 1) Understanding when and where each container is appropriate.2)Order doesn't matter. Unlike lists, sets do not store ordered data.3)Duplicates are irrelevant. By definition, sets cannot contain duplicates.Processing speed matters."
      ],
      "metadata": {
        "id": "WtoGyA0TpVOr"
      }
    },
    {
      "cell_type": "markdown",
      "source": [
        "**What is a string in Python, and how is it different from a list?**\n",
        "\n"
      ],
      "metadata": {
        "id": "2hCN3B8lpge7"
      }
    },
    {
      "cell_type": "markdown",
      "source": [
        "Each character in the string can be accessed by its index, or position. Substrings can be extracted using slicing. Strings can be joined together and altered using a variety of techniques (find, replace, etc.).Hence string is there in python"
      ],
      "metadata": {
        "id": "qBwYYRBApnKT"
      }
    },
    {
      "cell_type": "markdown",
      "source": [
        "In lists, you can add, remove, or modify elements within a list using indexing and slicing. Lists are versatile for storing and managing collections that might change. where in strings, Characters arranged in an unchangeable order. Consider writing a sentence, a paragraph, or a piece of material."
      ],
      "metadata": {
        "id": "IKj7OTQlptGb"
      }
    },
    {
      "cell_type": "markdown",
      "source": [
        "**How do tuples ensure data integrity in Python?**"
      ],
      "metadata": {
        "id": "0y2kDPzQpvbD"
      }
    },
    {
      "cell_type": "markdown",
      "source": [
        "Tuples ensure data integrity in Python,you can access elements using indexing and slicing, but you cannot modify the content. Tuples are useful for representing fixed datasets or configurations.Imagine a museum exhibit with artifacts in a fixed display case. These artifacts (data) are fixed in their place (immutable) and cannot be rearranged or removed, ensuring their preservation."
      ],
      "metadata": {
        "id": "srHUO0sWpyst"
      }
    },
    {
      "cell_type": "markdown",
      "source": [
        "**What is a hash table, and how does it relate to dictionaries in Python?**"
      ],
      "metadata": {
        "id": "_oK1VLLFp2K0"
      }
    },
    {
      "cell_type": "markdown",
      "source": [
        "In Python, the Dictionary data types represent the implementation of hash tables. The Keys in the dictionary are hashable–they are generated by a hash function which generates a unique result for each unique value supplied to the hash function."
      ],
      "metadata": {
        "id": "ped72rRXp6Xz"
      }
    },
    {
      "cell_type": "markdown",
      "source": [
        "**Can lists contain different data types in Python?**"
      ],
      "metadata": {
        "id": "M8uqxV2WqDSL"
      }
    },
    {
      "cell_type": "markdown",
      "source": [
        "In Python, lists can contain heterogeneous data types and objects. For instance, integers, strings, and even functions can be stored within the same list."
      ],
      "metadata": {
        "id": "m7wUJ5U2qLmz"
      }
    },
    {
      "cell_type": "markdown",
      "source": [
        "**Explain why strings are immutable in Python?**"
      ],
      "metadata": {
        "id": "pGQ6AFaZqMUE"
      }
    },
    {
      "cell_type": "markdown",
      "source": [
        "Strings in Python are “immutable” which means they can not be changed after they are created. Some other immutable data types are integers, float, boolean, etc.The immutability of Python string is very useful as it helps in hashing, performance optimization, safety, ease of use, etc. Each character in the string can be accessed by its index, or position. Substrings can be extracted using slicing. Strings can be joined together and altered using a variety of techniques (find, replace, etc.)."
      ],
      "metadata": {
        "id": "t5doTgriqQNz"
      }
    },
    {
      "cell_type": "markdown",
      "source": [
        "**What advantages do dictionaries offer over lists for certain tasks?**"
      ],
      "metadata": {
        "id": "kpS0slNQqUx8"
      }
    },
    {
      "cell_type": "markdown",
      "source": [
        "Dictionarys have two parts to every entry the key and the value and these are stored as pairs. This can give you more flexibility when storing data. The primary advantage would be retrieving stored values as it is much simpler to search through a dictionary."
      ],
      "metadata": {
        "id": "KiCejt9QqYET"
      }
    },
    {
      "cell_type": "markdown",
      "source": [
        "**Describe a scenario where using a tuple would be preferable over a list.**"
      ],
      "metadata": {
        "id": "_g_YuqZ9qbsb"
      }
    },
    {
      "cell_type": "markdown",
      "source": [
        "Imagine a museum exhibit with artifacts in a fixed display case. These artifacts (data) are fixed in their place (immutable) and cannot be rearranged or removed, ensuring their preservation.Here a tuple would be preferable over a list."
      ],
      "metadata": {
        "id": "OG1XB1S0qfVD"
      }
    },
    {
      "cell_type": "markdown",
      "source": [
        "**How do sets handle duplicate values in Python?**"
      ],
      "metadata": {
        "id": "thoNjBVtdyv8"
      }
    },
    {
      "cell_type": "markdown",
      "source": [
        "Sets in Python are unordered collections of unique elements. By their nature, duplicates aren't allowed. Therefore, converting a list into a set removes the duplicates."
      ],
      "metadata": {
        "id": "1C7Ivl8wqo5r"
      }
    },
    {
      "cell_type": "markdown",
      "source": [
        "**How does the “in” keyword work differently for lists and dictionaries?**"
      ],
      "metadata": {
        "id": "8s_kfkxVqtSr"
      }
    },
    {
      "cell_type": "markdown",
      "source": [
        "The in operator in Python checks if a specified value exists within a sequence, such as a list, tuple, or string. In Python, the in keyword also helps iterate over sequences in for loops (link).The in and not in operator works on dictionaries; it tells you whether something appears or not as a key in the dictionary. It returns two values True or False. The in operator uses different algorithms for lists and dictionaries. For lists, it uses a search algorithm."
      ],
      "metadata": {
        "id": "NkCWTAJNqx4s"
      }
    },
    {
      "cell_type": "markdown",
      "source": [
        "**Can you modify the elements of a tuple? Explain why or why not?**\n",
        "\n"
      ],
      "metadata": {
        "id": "MVsKO9__q1jT"
      }
    },
    {
      "cell_type": "markdown",
      "source": [
        "In tuple once created, the items in a tuple cannot be changed.They provide a secure way to store data that shouldn't be modified. You can access elements using indexing and slicing, but you cannot modify the content. Tuples are useful for representing fixed datasets or configurations."
      ],
      "metadata": {
        "id": "DPc2P7gwq-Qc"
      }
    },
    {
      "cell_type": "markdown",
      "source": [
        "**What is a nested dictionary, and give an example of its use case?**"
      ],
      "metadata": {
        "id": "BEYv2QxHrFKj"
      }
    },
    {
      "cell_type": "markdown",
      "source": [
        "A nested dictionary is a dictionary where the values are themselves dictionaries. It's essentially a dictionary within a dictionary, allowing for complex data structures with multiple levels of organization.A use case is storing employee records, where each employee's details can be nested within a dictionary that organizes employees by department."
      ],
      "metadata": {
        "id": "5R7dHQqNrUwL"
      }
    },
    {
      "cell_type": "markdown",
      "source": [
        "**Describe the time complexity of accessing elements in a dictionary?**"
      ],
      "metadata": {
        "id": "FVvKdGtZraHD"
      }
    },
    {
      "cell_type": "markdown",
      "source": [
        "Time and space complexity of dictionaries:Accessing a value by key: O(1) on average, O(n) worst case if there are many collisions. Adding a key-value pair: O(1) on average, O(n) worst case if the dictionary needs to be resized. Modifying a value by key: O(1) on average, O(n) worst case if there are many collisions"
      ],
      "metadata": {
        "id": "AGVPPSXmriwr"
      }
    },
    {
      "cell_type": "markdown",
      "source": [
        "**In what situations are lists preferred over dictionaries?**"
      ],
      "metadata": {
        "id": "loZrzBMLroHT"
      }
    },
    {
      "cell_type": "markdown",
      "source": [
        "For quick data look-ups, configurations, or caches, favor dictionaries. For ordered collections and sequence operations, such as maintaining a stack or queue, lists are more suitable.Lists perform faster for ordered operations like sorting, while dictionaries perform faster for lookup operations."
      ],
      "metadata": {
        "id": "ebHElIJLr8G7"
      }
    },
    {
      "cell_type": "markdown",
      "source": [
        "**Why are dictionaries considered unordered, and how does that affect data retrieval?**"
      ],
      "metadata": {
        "id": "x6d1rtwqsAFr"
      }
    },
    {
      "cell_type": "markdown",
      "source": [
        "A dictionary is termed an unordered collection of objects because dictionaries do not maintain any inherent order of the items based on when they were added."
      ],
      "metadata": {
        "id": "EB0IYOdVsGG0"
      }
    },
    {
      "cell_type": "markdown",
      "source": [
        "**Explain the difference between a list and a dictionary in terms of data retrieval.**\n"
      ],
      "metadata": {
        "id": "1PmhVXqoqwcD"
      }
    },
    {
      "cell_type": "markdown",
      "source": [
        "List is An ordered collection of items.Dictionary is An unordered collection of data in a key: value pair form.Lists Uses square brackets [].Dictionary Uses curly braces {}.In list Items have a defined order, which will not change.In dictionary Items do not have a defined order.In list Items can be modified after creation.Indictionary Values can be updated, and key: value pairs can be added or removed.List can store any data type.In dictionary Keys can be of any immutable data type (e.g., strings, numbers, tuples). Values can be of any type.Example of lists-fruits = [“apple”, “banana”, “cherry”]. Examples of dictionary person = {“name”: “John”, “age”: 30}"
      ],
      "metadata": {
        "id": "gXhzmfhms2Lb"
      }
    },
    {
      "cell_type": "markdown",
      "source": [],
      "metadata": {
        "id": "FULh4EKUsxfz"
      }
    },
    {
      "cell_type": "markdown",
      "source": [
        "**Write a code to create a string with your name and print it.**"
      ],
      "metadata": {
        "id": "-kG5u1xIsv4r"
      }
    },
    {
      "cell_type": "code",
      "source": [
        "a=(\"Dipomita\")\n",
        "print(a)\n"
      ],
      "metadata": {
        "colab": {
          "base_uri": "https://localhost:8080/"
        },
        "id": "TqGb08KPjG4t",
        "outputId": "e0c79d66-8569-4aeb-8766-0523cb2e314c"
      },
      "execution_count": 1,
      "outputs": [
        {
          "output_type": "stream",
          "name": "stdout",
          "text": [
            "Dipomita\n"
          ]
        }
      ]
    },
    {
      "cell_type": "markdown",
      "source": [
        "**Write a code to find the length of the string \"Hello World\".**"
      ],
      "metadata": {
        "id": "bEPL3jFAtmY8"
      }
    },
    {
      "cell_type": "code",
      "source": [
        "string = \"Hello world\"\n",
        "length = len(string)\n",
        "print(length)"
      ],
      "metadata": {
        "id": "k4_KRQY-ttfE",
        "colab": {
          "base_uri": "https://localhost:8080/"
        },
        "outputId": "e93cc8fc-785c-4f80-cbe5-052ee1b6e3bb"
      },
      "execution_count": 1,
      "outputs": [
        {
          "output_type": "stream",
          "name": "stdout",
          "text": [
            "11\n"
          ]
        }
      ]
    },
    {
      "cell_type": "markdown",
      "source": [
        "**Write a code to slice the first 3 characters from the string \"Python Programming\"P**"
      ],
      "metadata": {
        "id": "kLBfmtOxcznd"
      }
    },
    {
      "cell_type": "code",
      "source": [
        "s= \"python programming\"\n",
        "print(s[0:3])"
      ],
      "metadata": {
        "id": "IBjCUk0-q7ur",
        "colab": {
          "base_uri": "https://localhost:8080/"
        },
        "outputId": "258d8cf2-4716-43f9-f6ac-dd89f8cafcda"
      },
      "execution_count": 5,
      "outputs": [
        {
          "output_type": "stream",
          "name": "stdout",
          "text": [
            "pyt\n"
          ]
        }
      ]
    },
    {
      "cell_type": "markdown",
      "source": [
        "**Write a code to convert the string \"hello\" to uppercase.**"
      ],
      "metadata": {
        "id": "bGuyAl6peJzl"
      }
    },
    {
      "cell_type": "code",
      "source": [
        "s=\"hello\"\n",
        "res=s.upper()\n",
        "print(res)"
      ],
      "metadata": {
        "colab": {
          "base_uri": "https://localhost:8080/"
        },
        "id": "w0dxEp_SeOUn",
        "outputId": "bb54b556-70e3-450a-917b-6f7c036dc83f"
      },
      "execution_count": 6,
      "outputs": [
        {
          "output_type": "stream",
          "name": "stdout",
          "text": [
            "HELLO\n"
          ]
        }
      ]
    },
    {
      "cell_type": "markdown",
      "source": [
        "**Write a code to replace the word \"apple\" with \"orange\" in the string \"I like apple\".**"
      ],
      "metadata": {
        "id": "WNQJ1b68eR_X"
      }
    },
    {
      "cell_type": "code",
      "source": [
        "a= [\"I like apple\"]\n",
        "a =[s.replace('apple', 'orange')for s in a]\n",
        "print(a)"
      ],
      "metadata": {
        "colab": {
          "base_uri": "https://localhost:8080/"
        },
        "id": "z8qz3mJjeVMF",
        "outputId": "9c898b15-e17a-4679-c892-a05bf19c66f8"
      },
      "execution_count": 7,
      "outputs": [
        {
          "output_type": "stream",
          "name": "stdout",
          "text": [
            "['I like orange']\n"
          ]
        }
      ]
    },
    {
      "cell_type": "markdown",
      "source": [
        "**Write a code to create a list with numbers 1 to 5 and print it.**"
      ],
      "metadata": {
        "id": "wehTvahheX5O"
      }
    },
    {
      "cell_type": "code",
      "source": [
        "r1=1 #range1\n",
        "r2=5 #range2\n",
        "\n",
        "li=[i for i in range(1, 5)]\n",
        "print(li)"
      ],
      "metadata": {
        "colab": {
          "base_uri": "https://localhost:8080/"
        },
        "id": "epMWpcswebZm",
        "outputId": "440726ff-e7ca-47c0-c7fb-5a116b536c85"
      },
      "execution_count": 8,
      "outputs": [
        {
          "output_type": "stream",
          "name": "stdout",
          "text": [
            "[1, 2, 3, 4]\n"
          ]
        }
      ]
    },
    {
      "cell_type": "markdown",
      "source": [
        "**Write a code to append the number 10 to the list [1, 2, 3, 4]**"
      ],
      "metadata": {
        "id": "PGeOpnMVeeYN"
      }
    },
    {
      "cell_type": "code",
      "source": [
        "my_list = [1, 2, 3, 4]\n",
        "my_list.append(10)\n",
        "print(my_list)"
      ],
      "metadata": {
        "colab": {
          "base_uri": "https://localhost:8080/"
        },
        "id": "L1RdCrm3eiH9",
        "outputId": "98015ae2-8907-43d3-9a77-531aaf025ba8"
      },
      "execution_count": 9,
      "outputs": [
        {
          "output_type": "stream",
          "name": "stdout",
          "text": [
            "[1, 2, 3, 4, 10]\n"
          ]
        }
      ]
    },
    {
      "cell_type": "markdown",
      "source": [
        "**Write a code to remove the number 3 from the list [1, 2, 3, 4, 5]**"
      ],
      "metadata": {
        "id": "o-AHCmjYekrM"
      }
    },
    {
      "cell_type": "code",
      "source": [
        "Input = [1, 2, 3, 4, 5]\n",
        "a= [3]\n",
        "removed_list = [i for i in Input if i not in a]\n",
        "print(removed_list)"
      ],
      "metadata": {
        "colab": {
          "base_uri": "https://localhost:8080/"
        },
        "id": "eEKQ-2p4eoOV",
        "outputId": "7e671cd5-eb01-4634-e13b-9278f1f8f020"
      },
      "execution_count": 10,
      "outputs": [
        {
          "output_type": "stream",
          "name": "stdout",
          "text": [
            "[1, 2, 4, 5]\n"
          ]
        }
      ]
    },
    {
      "cell_type": "markdown",
      "source": [
        "**Write a code to access the second element in the list ['a', 'b', 'c', 'd'].**"
      ],
      "metadata": {
        "id": "BteMZ4uqeubl"
      }
    },
    {
      "cell_type": "code",
      "source": [
        "my_list = ['a', 'b', 'c', 'd']\n",
        "second_element = my_list[1]\n",
        "print(second_element)"
      ],
      "metadata": {
        "colab": {
          "base_uri": "https://localhost:8080/"
        },
        "id": "391qEkxuexNO",
        "outputId": "b5a419ea-e9da-4d77-dd7b-79eb511fe2d7"
      },
      "execution_count": 11,
      "outputs": [
        {
          "output_type": "stream",
          "name": "stdout",
          "text": [
            "b\n"
          ]
        }
      ]
    },
    {
      "cell_type": "markdown",
      "source": [
        "**Write a code to reverse the list [10, 20, 30, 40, 50]**"
      ],
      "metadata": {
        "id": "k3jiTY55e0I-"
      }
    },
    {
      "cell_type": "code",
      "source": [
        "a = [10, 20, 30, 40, 50]\n",
        "\n",
        "# Reverse the list in-place\n",
        "a.reverse()\n",
        "print(a)"
      ],
      "metadata": {
        "colab": {
          "base_uri": "https://localhost:8080/"
        },
        "id": "pjgHaJP3e3ao",
        "outputId": "23d12af9-259e-44bc-c9b5-07fd58adf93b"
      },
      "execution_count": 12,
      "outputs": [
        {
          "output_type": "stream",
          "name": "stdout",
          "text": [
            "[50, 40, 30, 20, 10]\n"
          ]
        }
      ]
    },
    {
      "cell_type": "markdown",
      "source": [
        "**Write a code to create a tuple with the elements 100, 200, 300 and print it.**"
      ],
      "metadata": {
        "id": "6HCgkmUIe5_-"
      }
    },
    {
      "cell_type": "code",
      "source": [
        "my_tuple = (100, 200, 300)\n",
        "print(my_tuple)"
      ],
      "metadata": {
        "colab": {
          "base_uri": "https://localhost:8080/"
        },
        "id": "mbmcCiAoe8Wl",
        "outputId": "453077c7-f9bc-4b4a-da07-86cb49b5e2df"
      },
      "execution_count": 13,
      "outputs": [
        {
          "output_type": "stream",
          "name": "stdout",
          "text": [
            "(100, 200, 300)\n"
          ]
        }
      ]
    },
    {
      "cell_type": "markdown",
      "source": [
        "**Write a code to access the second-to-last element of the tuple ('red', 'green', 'blue', 'yellow').**"
      ],
      "metadata": {
        "id": "0pcYbyFWe-hW"
      }
    },
    {
      "cell_type": "code",
      "source": [
        "colors = ('red', 'green', 'blue', 'yellow')\n",
        "second_to_last = colors[-2]\n",
        "print(second_to_last)"
      ],
      "metadata": {
        "colab": {
          "base_uri": "https://localhost:8080/"
        },
        "id": "E0tDjpo8fBZd",
        "outputId": "4b589935-ddde-4707-f07d-a0c2c55fb221"
      },
      "execution_count": 14,
      "outputs": [
        {
          "output_type": "stream",
          "name": "stdout",
          "text": [
            "blue\n"
          ]
        }
      ]
    },
    {
      "cell_type": "markdown",
      "source": [
        "**Write a code to find the minimum number in the tuple (10, 20, 5, 15).**"
      ],
      "metadata": {
        "id": "0Yu0JRUrfDcO"
      }
    },
    {
      "cell_type": "code",
      "source": [
        "my_tuple = (10, 20, 5, 15)\n",
        "min_number = min(my_tuple)\n",
        "print(min_number)"
      ],
      "metadata": {
        "colab": {
          "base_uri": "https://localhost:8080/"
        },
        "id": "bL5EL2kOfGxt",
        "outputId": "5a7357be-fb59-4b7c-86c1-9102b696a320"
      },
      "execution_count": 15,
      "outputs": [
        {
          "output_type": "stream",
          "name": "stdout",
          "text": [
            "5\n"
          ]
        }
      ]
    },
    {
      "cell_type": "markdown",
      "source": [
        "**Write a code to find the index of the element \"cat\" in the tuple ('dog', 'cat', 'rabbit').**"
      ],
      "metadata": {
        "id": "EUceBN0cfLRN"
      }
    },
    {
      "cell_type": "code",
      "source": [
        "animals = ('dog', 'cat', 'rabbit')\n",
        "index= animals.index('cat')\n",
        "('The index of cat:', index)"
      ],
      "metadata": {
        "colab": {
          "base_uri": "https://localhost:8080/"
        },
        "id": "wbCmJqrefNxm",
        "outputId": "5121b3de-7967-4591-8bad-c6b45747d562"
      },
      "execution_count": 16,
      "outputs": [
        {
          "output_type": "execute_result",
          "data": {
            "text/plain": [
              "('The index of cat:', 1)"
            ]
          },
          "metadata": {},
          "execution_count": 16
        }
      ]
    },
    {
      "cell_type": "markdown",
      "source": [
        "**Write a code to create a tuple containing three different fruits and check if \"kiwi\" is in it.**"
      ],
      "metadata": {
        "id": "_hlKJY-IfQou"
      }
    },
    {
      "cell_type": "code",
      "source": [
        "thistuple = ( \"cherry\", \"orange\", \"kiwi\")\n",
        "(thistuple[:2])\n"
      ],
      "metadata": {
        "colab": {
          "base_uri": "https://localhost:8080/"
        },
        "id": "rW4ItCBAfTKe",
        "outputId": "c55a5cc7-5096-4a53-8c9f-194ce15a54cd"
      },
      "execution_count": 17,
      "outputs": [
        {
          "output_type": "execute_result",
          "data": {
            "text/plain": [
              "('cherry', 'orange')"
            ]
          },
          "metadata": {},
          "execution_count": 17
        }
      ]
    },
    {
      "cell_type": "markdown",
      "source": [
        "**Write a code to create a set with the elements 'a', 'b', 'c' and print it.**"
      ],
      "metadata": {
        "id": "oTdq4yocfVdm"
      }
    },
    {
      "cell_type": "code",
      "source": [
        "my_set = {'a', 'b', 'c'}\n",
        "(my_set)"
      ],
      "metadata": {
        "colab": {
          "base_uri": "https://localhost:8080/"
        },
        "id": "Kz_fQqAEfX0v",
        "outputId": "3bba6b51-c199-47c5-efd7-ee406955b62b"
      },
      "execution_count": 18,
      "outputs": [
        {
          "output_type": "execute_result",
          "data": {
            "text/plain": [
              "{'a', 'b', 'c'}"
            ]
          },
          "metadata": {},
          "execution_count": 18
        }
      ]
    },
    {
      "cell_type": "markdown",
      "source": [
        "**Write a code to clear all elements from the set {1, 2, 3, 4, 5}.**"
      ],
      "metadata": {
        "id": "12Cv5ruqfaiG"
      }
    },
    {
      "cell_type": "code",
      "source": [
        "my_set = {1, 2, 3, 4, 5}\n",
        "my_set.clear()\n",
        "(my_set)"
      ],
      "metadata": {
        "colab": {
          "base_uri": "https://localhost:8080/"
        },
        "id": "ZPmrBfwKfdTu",
        "outputId": "453913e8-e420-4463-df28-3db181a9afc5"
      },
      "execution_count": 19,
      "outputs": [
        {
          "output_type": "execute_result",
          "data": {
            "text/plain": [
              "set()"
            ]
          },
          "metadata": {},
          "execution_count": 19
        }
      ]
    },
    {
      "cell_type": "markdown",
      "source": [
        "**Write a code to remove the element 4 from the set {1, 2, 3, 4}.**"
      ],
      "metadata": {
        "id": "WN_JMIl2fgPe"
      }
    },
    {
      "cell_type": "code",
      "source": [
        "my_set = {1, 2, 3, 4}\n",
        "my_set.discard(4)\n",
        "(my_set)"
      ],
      "metadata": {
        "colab": {
          "base_uri": "https://localhost:8080/"
        },
        "id": "-brsuIEDfj1m",
        "outputId": "0860052a-3c06-420f-c681-c087fcfa5080"
      },
      "execution_count": 20,
      "outputs": [
        {
          "output_type": "execute_result",
          "data": {
            "text/plain": [
              "{1, 2, 3}"
            ]
          },
          "metadata": {},
          "execution_count": 20
        }
      ]
    },
    {
      "cell_type": "markdown",
      "source": [
        "**Write a code to find the union of two sets {1, 2, 3} and {3, 4, 5}.**"
      ],
      "metadata": {
        "id": "12SjTJ2wfmHe"
      }
    },
    {
      "cell_type": "code",
      "source": [
        "A = {1, 2, 3}\n",
        "B = {3, 4, 5}\n",
        "('A U B = ', A.union(B))"
      ],
      "metadata": {
        "colab": {
          "base_uri": "https://localhost:8080/"
        },
        "id": "pyXnQcGffppd",
        "outputId": "6704feb9-14a3-49db-eca0-30d5728f04a5"
      },
      "execution_count": 21,
      "outputs": [
        {
          "output_type": "execute_result",
          "data": {
            "text/plain": [
              "('A U B = ', {1, 2, 3, 4, 5})"
            ]
          },
          "metadata": {},
          "execution_count": 21
        }
      ]
    },
    {
      "cell_type": "markdown",
      "source": [
        "**Write a code to find the intersection of two sets {1, 2, 3} and {2, 3, 4}.**"
      ],
      "metadata": {
        "id": "YHlIk0yDfsCG"
      }
    },
    {
      "cell_type": "code",
      "source": [
        "set1 = {1, 2, 3}\n",
        "set2 = {2, 3, 4}\n",
        "\n",
        "intersection = set1.intersection(set2)\n",
        "\n",
        "(intersection)"
      ],
      "metadata": {
        "colab": {
          "base_uri": "https://localhost:8080/"
        },
        "id": "xcGBjltgfvEV",
        "outputId": "9c5fd817-e61a-4c1f-9426-1c1783b218a5"
      },
      "execution_count": 22,
      "outputs": [
        {
          "output_type": "execute_result",
          "data": {
            "text/plain": [
              "{2, 3}"
            ]
          },
          "metadata": {},
          "execution_count": 22
        }
      ]
    },
    {
      "cell_type": "markdown",
      "source": [
        "**Write a code to create a dictionary with the keys \"name\", \"age\", and \"city\", and print it.**\n",
        "\n"
      ],
      "metadata": {
        "id": "FzUguOdtfxd-"
      }
    },
    {
      "cell_type": "code",
      "source": [
        "sample_dict ={'name': 'Dipomita' , 'age':27 ,'city':'Hamiltonganj'}\n",
        "keys_list = [key for key in sample_dict]\n",
        "(keys_list)"
      ],
      "metadata": {
        "colab": {
          "base_uri": "https://localhost:8080/"
        },
        "id": "cUzImaAtf2oO",
        "outputId": "f6c17cc8-7fc5-4e9d-d3f9-703e34aebfd3"
      },
      "execution_count": 23,
      "outputs": [
        {
          "output_type": "execute_result",
          "data": {
            "text/plain": [
              "['name', 'age', 'city']"
            ]
          },
          "metadata": {},
          "execution_count": 23
        }
      ]
    },
    {
      "cell_type": "markdown",
      "source": [
        "**Write a code to add a new key-value pair \"country\": \"USA\" to the dictionary {'name': 'John', 'age': 25}.**"
      ],
      "metadata": {
        "id": "JrnE2thCf5SH"
      }
    },
    {
      "cell_type": "code",
      "source": [
        "sample_dict ={'name': 'John' , 'age':25 ,'country':'USA'}\n",
        "(sample_dict)"
      ],
      "metadata": {
        "colab": {
          "base_uri": "https://localhost:8080/"
        },
        "id": "ylk9JEXEf8MV",
        "outputId": "f60d4377-d64c-41b0-e990-a83ade11245c"
      },
      "execution_count": 24,
      "outputs": [
        {
          "output_type": "execute_result",
          "data": {
            "text/plain": [
              "{'name': 'John', 'age': 25, 'country': 'USA'}"
            ]
          },
          "metadata": {},
          "execution_count": 24
        }
      ]
    },
    {
      "cell_type": "markdown",
      "source": [
        "**Write a code to access the value associated with the key \"name\" in the dictionary {'name': 'Alice', 'age': 30}.**\n",
        "\n"
      ],
      "metadata": {
        "id": "yp2iLAgQgAIe"
      }
    },
    {
      "cell_type": "code",
      "source": [
        "my_dict = {'name': 'Alice', 'age': 30}\n",
        "name_value = my_dict['name']\n",
        "(name_value)"
      ],
      "metadata": {
        "id": "ZeKdMRmBqIBj",
        "colab": {
          "base_uri": "https://localhost:8080/",
          "height": 35
        },
        "outputId": "6bf1ffd2-22cc-47ee-9cff-75bd72e51b16"
      },
      "execution_count": 25,
      "outputs": [
        {
          "output_type": "execute_result",
          "data": {
            "text/plain": [
              "'Alice'"
            ],
            "application/vnd.google.colaboratory.intrinsic+json": {
              "type": "string"
            }
          },
          "metadata": {},
          "execution_count": 25
        }
      ]
    },
    {
      "cell_type": "markdown",
      "source": [
        "**Write a code to remove the key \"age\" from the dictionary {'name': 'Bob', 'age': 22, 'city': 'New York'}.**"
      ],
      "metadata": {
        "id": "lLJ1OlabgGqe"
      }
    },
    {
      "cell_type": "code",
      "source": [
        "my_dict = {\"name\": \"Bob\", \"age\": 22}\n",
        "del my_dict[\"age\"]\n",
        "(my_dict)"
      ],
      "metadata": {
        "colab": {
          "base_uri": "https://localhost:8080/"
        },
        "id": "xs5EvTHrgNX1",
        "outputId": "3df13375-0a6d-4889-d4ff-0583c6929da1"
      },
      "execution_count": 26,
      "outputs": [
        {
          "output_type": "execute_result",
          "data": {
            "text/plain": [
              "{'name': 'Bob'}"
            ]
          },
          "metadata": {},
          "execution_count": 26
        }
      ]
    },
    {
      "cell_type": "markdown",
      "source": [
        "**Write a code to check if the key \"city\" exists in the dictionary {'name': 'Alice', 'city': 'Paris'}.**"
      ],
      "metadata": {
        "id": "IDCLS-dwgQee"
      }
    },
    {
      "cell_type": "code",
      "source": [
        "my_dict = {'name': 'Alice', 'city': 'Paris'}\n",
        "if \"city\" in my_dict:\n",
        "    print(my_dict[\"city\"])"
      ],
      "metadata": {
        "colab": {
          "base_uri": "https://localhost:8080/"
        },
        "id": "RGZXYtfugTKu",
        "outputId": "3ccdf386-38d1-49d7-9a8e-c96d1ee07590"
      },
      "execution_count": 27,
      "outputs": [
        {
          "output_type": "stream",
          "name": "stdout",
          "text": [
            "Paris\n"
          ]
        }
      ]
    },
    {
      "cell_type": "markdown",
      "source": [
        "**Write a code to create a list, a tuple, and a dictionary, and print them all.**"
      ],
      "metadata": {
        "id": "QSpNj_F-gVk2"
      }
    },
    {
      "cell_type": "code",
      "source": [
        "my_list = ['Car', 'Bus', 'Train', 'Ship']\n",
        "\n",
        "print(my_list)"
      ],
      "metadata": {
        "colab": {
          "base_uri": "https://localhost:8080/"
        },
        "id": "FnYZrX0-gYY1",
        "outputId": "3f629c0c-6c3b-47f2-97fe-766a94765fe9"
      },
      "execution_count": 28,
      "outputs": [
        {
          "output_type": "stream",
          "name": "stdout",
          "text": [
            "['Car', 'Bus', 'Train', 'Ship']\n"
          ]
        }
      ]
    },
    {
      "cell_type": "code",
      "source": [
        "my_tuple = (1, 2, 3, 4 ,5)\n",
        "print(my_tuple)"
      ],
      "metadata": {
        "colab": {
          "base_uri": "https://localhost:8080/"
        },
        "id": "UFzcDUM_gfv9",
        "outputId": "5fb401bb-4990-43d2-f892-c467d1d2e47b"
      },
      "execution_count": 29,
      "outputs": [
        {
          "output_type": "stream",
          "name": "stdout",
          "text": [
            "(1, 2, 3, 4, 5)\n"
          ]
        }
      ]
    },
    {
      "cell_type": "code",
      "source": [
        "my_dict = {\"name\": \"John\", \"age\": 25, \"city\": \"New York\"}\n",
        "print(my_dict)"
      ],
      "metadata": {
        "colab": {
          "base_uri": "https://localhost:8080/"
        },
        "id": "CJTHcPjrgh_W",
        "outputId": "709d1605-01ee-44a5-d505-f64c3bbb8226"
      },
      "execution_count": 30,
      "outputs": [
        {
          "output_type": "stream",
          "name": "stdout",
          "text": [
            "{'name': 'John', 'age': 25, 'city': 'New York'}\n"
          ]
        }
      ]
    },
    {
      "cell_type": "markdown",
      "source": [
        "**Write a code to create a list of 5 random numbers between 1 and 100, sort it in ascending order, and print the result.(replaced)**"
      ],
      "metadata": {
        "id": "h2jF91UWgi5t"
      }
    },
    {
      "cell_type": "code",
      "source": [
        "numbers = [2,4,17,97,82]\n",
        "numbers.sort()\n",
        "print(\"Sorted list:\", numbers)"
      ],
      "metadata": {
        "colab": {
          "base_uri": "https://localhost:8080/"
        },
        "id": "s3ZNc20xgmpI",
        "outputId": "94ea0bbc-b1bd-4ffd-9b43-23d982209e8c"
      },
      "execution_count": 31,
      "outputs": [
        {
          "output_type": "stream",
          "name": "stdout",
          "text": [
            "Sorted list: [2, 4, 17, 82, 97]\n"
          ]
        }
      ]
    },
    {
      "cell_type": "markdown",
      "source": [
        "**Write a code to create a list with strings and print the element at the third index.**"
      ],
      "metadata": {
        "id": "dAXJI_omgo2l"
      }
    },
    {
      "cell_type": "code",
      "source": [
        "my_list = [\"apple\", \"banana\", \"cherry\", \"date\"]\n",
        "print(my_list[2])"
      ],
      "metadata": {
        "colab": {
          "base_uri": "https://localhost:8080/"
        },
        "id": "IanPgh09griG",
        "outputId": "5eda3f2b-919f-4c72-f21a-17adbaf40150"
      },
      "execution_count": 32,
      "outputs": [
        {
          "output_type": "stream",
          "name": "stdout",
          "text": [
            "cherry\n"
          ]
        }
      ]
    },
    {
      "cell_type": "markdown",
      "source": [
        "**Write a code to combine two dictionaries into one and print the result.**\n",
        "\n",
        "\n"
      ],
      "metadata": {
        "id": "lrQ0ZIlLgt3V"
      }
    },
    {
      "cell_type": "code",
      "source": [
        "d1 = {'x': 1, 'y': 2}\n",
        "d2 = {'y': 3, 'z': 4}\n",
        "\n",
        "d1.update(d2)\n",
        "print(d1)"
      ],
      "metadata": {
        "colab": {
          "base_uri": "https://localhost:8080/"
        },
        "id": "Sfyp3YZqgxka",
        "outputId": "eb1e20a6-2392-431c-9956-3044e1d99c36"
      },
      "execution_count": 33,
      "outputs": [
        {
          "output_type": "stream",
          "name": "stdout",
          "text": [
            "{'x': 1, 'y': 3, 'z': 4}\n"
          ]
        }
      ]
    },
    {
      "cell_type": "markdown",
      "source": [
        "**Write a code to convert a list of strings into a set.**\n",
        "\n"
      ],
      "metadata": {
        "id": "ekd3uXFjgzu2"
      }
    },
    {
      "cell_type": "code",
      "source": [
        "s = \"Geeks\"\n",
        "\n",
        "print(type(s))\n",
        "print(s)\n",
        "\n",
        "# Convert String to Set\n",
        "set_s = set(s)\n",
        "\n",
        "print(type(set_s))\n",
        "print(set_s)"
      ],
      "metadata": {
        "colab": {
          "base_uri": "https://localhost:8080/"
        },
        "id": "RMY8mxVug8AH",
        "outputId": "d3723779-4757-45a0-d01f-cc34ecae9b3c"
      },
      "execution_count": 34,
      "outputs": [
        {
          "output_type": "stream",
          "name": "stdout",
          "text": [
            "<class 'str'>\n",
            "Geeks\n",
            "<class 'set'>\n",
            "{'k', 's', 'G', 'e'}\n"
          ]
        }
      ]
    },
    {
      "cell_type": "markdown",
      "source": [],
      "metadata": {
        "id": "mvIR9h2jga4-"
      }
    }
  ]
}